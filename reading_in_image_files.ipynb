{
  "cells": [
    {
      "cell_type": "code",
      "source": [
        "from google.colab import files\n",
        "uploaded = files.upload()"
      ],
      "metadata": {
        "id": "7gFu7xfHYfBN",
        "outputId": "175174aa-f56f-4183-aef9-bffa4361e73d",
        "colab": {
          "resources": {
            "http://localhost:8080/nbextensions/google.colab/files.js": {
              "data": "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",
              "ok": true,
              "headers": [
                [
                  "content-type",
                  "application/javascript"
                ]
              ],
              "status": 200,
              "status_text": ""
            }
          },
          "base_uri": "https://localhost:8080/",
          "height": 72
        }
      },
      "id": "7gFu7xfHYfBN",
      "execution_count": 26,
      "outputs": [
        {
          "output_type": "display_data",
          "data": {
            "text/html": [
              "\n",
              "     <input type=\"file\" id=\"files-d4267852-61ed-42d5-87fe-fefabf4891d4\" name=\"files[]\" multiple disabled\n",
              "        style=\"border:none\" />\n",
              "     <output id=\"result-d4267852-61ed-42d5-87fe-fefabf4891d4\">\n",
              "      Upload widget is only available when the cell has been executed in the\n",
              "      current browser session. Please rerun this cell to enable.\n",
              "      </output>\n",
              "      <script src=\"/nbextensions/google.colab/files.js\"></script> "
            ],
            "text/plain": [
              "<IPython.core.display.HTML object>"
            ]
          },
          "metadata": {}
        },
        {
          "output_type": "stream",
          "name": "stdout",
          "text": [
            "Saving kaggle.json to kaggle (1).json\n"
          ]
        }
      ]
    },
    {
      "cell_type": "code",
      "source": [
        "!pwd"
      ],
      "metadata": {
        "id": "HujRl9mMZSnH",
        "outputId": "62dcfcb7-5769-4c6f-8bd8-f985ff948437",
        "colab": {
          "base_uri": "https://localhost:8080/"
        }
      },
      "id": "HujRl9mMZSnH",
      "execution_count": 27,
      "outputs": [
        {
          "output_type": "stream",
          "name": "stdout",
          "text": [
            "/content\n"
          ]
        }
      ]
    },
    {
      "cell_type": "code",
      "source": [
        "!mkdir ~/.kaggle\n",
        "!cp /content/.kaggle/kaggle.json ~/.kaggle/kaggle.json"
      ],
      "metadata": {
        "id": "Byb_NIqPbY96",
        "outputId": "fefa1505-2a72-40fa-c78c-eabd848daf78",
        "colab": {
          "base_uri": "https://localhost:8080/"
        }
      },
      "id": "Byb_NIqPbY96",
      "execution_count": 25,
      "outputs": [
        {
          "output_type": "stream",
          "name": "stdout",
          "text": [
            "cp: cannot stat '/content/.kaggle/kaggle.json': No such file or directory\n"
          ]
        }
      ]
    },
    {
      "cell_type": "code",
      "source": [
        "!kaggle competitions download -c dogs-vs-cats-redux-kernels-edition"
      ],
      "metadata": {
        "id": "jt7Q4k_uZdiV",
        "outputId": "cca049c8-7c3f-472f-97ee-21dfff0194b0",
        "colab": {
          "base_uri": "https://localhost:8080/"
        }
      },
      "id": "jt7Q4k_uZdiV",
      "execution_count": 28,
      "outputs": [
        {
          "output_type": "stream",
          "name": "stdout",
          "text": [
            "Warning: Your Kaggle API key is readable by other users on this system! To fix this, you can run 'chmod 600 /content/kaggle.json'\n",
            "Warning: Looks like you're using an outdated API Version, please consider updating (server 1.5.12 / client 1.5.4)\n",
            "Downloading train.zip to /content\n",
            "100% 544M/544M [00:04<00:00, 131MB/s]\n",
            "\n",
            "Downloading test.zip to /content\n",
            " 99% 269M/271M [00:02<00:00, 117MB/s]\n",
            "100% 271M/271M [00:02<00:00, 121MB/s]\n",
            "Downloading sample_submission.csv to /content\n",
            "  0% 0.00/111k [00:00<?, ?B/s]\n",
            "100% 111k/111k [00:00<00:00, 105MB/s]\n"
          ]
        }
      ]
    },
    {
      "cell_type": "code",
      "source": [
        ""
      ],
      "metadata": {
        "id": "Cak7DWp9brVe"
      },
      "id": "Cak7DWp9brVe",
      "execution_count": null,
      "outputs": []
    },
    {
      "cell_type": "code",
      "execution_count": null,
      "id": "a07c6e47",
      "metadata": {
        "id": "a07c6e47"
      },
      "outputs": [],
      "source": [
        "import os, cv2, random, shutil\n",
        "import numpy as np\n",
        "import pandas as pd\n",
        "from sklearn.model_selection import train_test_split\n"
      ]
    },
    {
      "cell_type": "code",
      "execution_count": null,
      "id": "560f91b3",
      "metadata": {
        "id": "560f91b3",
        "outputId": "7c0c7374-e705-4109-989e-98abda03e60f"
      },
      "outputs": [
        {
          "name": "stdout",
          "output_type": "stream",
          "text": [
            "There are 25000 images\n",
            "There are 12500 dog images\n",
            "There are 12500 cat images\n",
            "There are 12500 images\n"
          ]
        }
      ],
      "source": [
        "# Inspired by Jeff Delaney notebook: https://www.kaggle.com/jeffd23/catdognet-keras-convnet-starter\n",
        "\n",
        "def get_images (directory, type=None):\n",
        "    if type is None:\n",
        "        images = [directory + i for i in os.listdir(directory)]\n",
        "        print(f\"There are {len(images)} images\")\n",
        "    else:\n",
        "        images = [directory + i for i in os.listdir(directory) if type in i]\n",
        "        print(f\"There are {len(images)} {type} images\")\n",
        "    return images\n",
        "\n",
        "base = 'drive/MyDrive/Masters/week08/data/'\n",
        "\n",
        "train_images = get_images(base+'train')\n",
        "train_dogs = get_images(base+'train', 'dog')\n",
        "train_cats = get_images(base+'train', 'cat')\n",
        "test_images = get_images('test')"
      ]
    },
    {
      "cell_type": "code",
      "execution_count": null,
      "id": "be54ddc8",
      "metadata": {
        "id": "be54ddc8",
        "outputId": "c3f039b4-ed41-48e9-f1ed-fe25075c4331"
      },
      "outputs": [
        {
          "data": {
            "text/plain": [
              "4166.666666666667"
            ]
          },
          "execution_count": 28,
          "metadata": {},
          "output_type": "execute_result"
        }
      ],
      "source": [
        "len(train_images)/6"
      ]
    },
    {
      "cell_type": "code",
      "execution_count": null,
      "id": "eb72c492",
      "metadata": {
        "id": "eb72c492",
        "outputId": "e00e6f0d-75ef-4f7e-bbbc-fa3fdce3466e"
      },
      "outputs": [
        {
          "data": {
            "text/plain": [
              "2083.3333333333335"
            ]
          },
          "execution_count": 29,
          "metadata": {},
          "output_type": "execute_result"
        }
      ],
      "source": [
        "len(train_dogs)/6"
      ]
    },
    {
      "cell_type": "code",
      "execution_count": null,
      "id": "655b9aca",
      "metadata": {
        "id": "655b9aca"
      },
      "outputs": [],
      "source": [
        "train_images = random.sample(train_dogs, 2000) + random.sample(train_cats, 2000)\n",
        "random.shuffle(train_images)"
      ]
    },
    {
      "cell_type": "code",
      "execution_count": null,
      "id": "411d7a98",
      "metadata": {
        "id": "411d7a98",
        "outputId": "8eade44b-abcd-4999-897b-8f4b5c4effbf"
      },
      "outputs": [
        {
          "data": {
            "text/plain": [
              "'cat.9799.jpg'"
            ]
          },
          "execution_count": 50,
          "metadata": {},
          "output_type": "execute_result"
        }
      ],
      "source": [
        "hmm = train_images[1]\n",
        "hmm[11:]\n"
      ]
    },
    {
      "cell_type": "code",
      "execution_count": null,
      "id": "eac36975",
      "metadata": {
        "id": "eac36975"
      },
      "outputs": [],
      "source": [
        "for file in train_images:\n",
        "    shutil.copy(file, f\"data/train_subset/{file[11:]}\")"
      ]
    },
    {
      "cell_type": "code",
      "execution_count": null,
      "id": "b878ed46",
      "metadata": {
        "id": "b878ed46"
      },
      "outputs": [],
      "source": [
        "ROWS = 64\n",
        "COLS = 64\n",
        "CHANNELS = 3"
      ]
    },
    {
      "cell_type": "code",
      "execution_count": null,
      "id": "fdd885db",
      "metadata": {
        "id": "fdd885db",
        "outputId": "35968e56-0bcf-497c-96dc-5e8b1d66d242"
      },
      "outputs": [
        {
          "data": {
            "text/plain": [
              "array([[[ 17,  11,  22],\n",
              "        [ 21,  17,  22],\n",
              "        [ 22,  20,  26],\n",
              "        ...,\n",
              "        [154, 146, 147],\n",
              "        [151, 146, 147],\n",
              "        [154, 149, 150]],\n",
              "\n",
              "       [[ 22,  16,  27],\n",
              "        [ 19,  15,  21],\n",
              "        [ 27,  25,  31],\n",
              "        ...,\n",
              "        [176, 168, 169],\n",
              "        [123, 117, 118],\n",
              "        [170, 167, 164]],\n",
              "\n",
              "       [[ 20,  14,  25],\n",
              "        [ 19,  15,  20],\n",
              "        [ 18,  16,  22],\n",
              "        ...,\n",
              "        [157, 149, 150],\n",
              "        [169, 163, 164],\n",
              "        [153, 148, 149]],\n",
              "\n",
              "       ...,\n",
              "\n",
              "       [[178, 172, 174],\n",
              "        [177, 170, 175],\n",
              "        [163, 155, 162],\n",
              "        ...,\n",
              "        [189, 183, 184],\n",
              "        [181, 175, 176],\n",
              "        [170, 164, 165]],\n",
              "\n",
              "       [[170, 165, 162],\n",
              "        [148, 138, 149],\n",
              "        [167, 159, 166],\n",
              "        ...,\n",
              "        [158, 152, 153],\n",
              "        [177, 171, 172],\n",
              "        [148, 142, 143]],\n",
              "\n",
              "       [[155, 148, 151],\n",
              "        [164, 157, 160],\n",
              "        [182, 176, 177],\n",
              "        ...,\n",
              "        [162, 157, 156],\n",
              "        [131, 124, 129],\n",
              "        [168, 160, 167]]], dtype=uint8)"
            ]
          },
          "execution_count": 42,
          "metadata": {},
          "output_type": "execute_result"
        }
      ],
      "source": [
        "def read_image (file_path):\n",
        "    img = cv2.imread(file_path, cv2.IMREAD_COLOR)\n",
        "    return cv2.resize(img, (ROWS, COLS), interpolation=cv2.INTER_CUBIC)\n"
      ]
    },
    {
      "cell_type": "code",
      "execution_count": null,
      "id": "1a8ae4df",
      "metadata": {
        "id": "1a8ae4df",
        "outputId": "fd99c314-657f-4245-afa8-1c497ee224a4"
      },
      "outputs": [
        {
          "name": "stdout",
          "output_type": "stream",
          "text": [
            "Procesed 0 of 4000\n",
            "Procesed 250 of 4000\n",
            "Procesed 500 of 4000\n",
            "Procesed 750 of 4000\n",
            "Procesed 1000 of 4000\n",
            "Procesed 1250 of 4000\n",
            "Procesed 1500 of 4000\n",
            "Procesed 1750 of 4000\n",
            "Procesed 2000 of 4000\n",
            "Procesed 2250 of 4000\n",
            "Procesed 2500 of 4000\n",
            "Procesed 2750 of 4000\n",
            "Procesed 3000 of 4000\n",
            "Procesed 3250 of 4000\n",
            "Procesed 3500 of 4000\n",
            "Procesed 3750 of 4000\n",
            "Train shape (4000, 3, 64, 64)\n"
          ]
        }
      ],
      "source": [
        "def read_image (file_path):\n",
        "    img = cv2.imread(file_path, cv2.IMREAD_COLOR)\n",
        "    return cv2.resize(img, (ROWS, COLS), interpolation=cv2.INTER_CUBIC)\n",
        "\n",
        "def prep_data(images):\n",
        "    count = len(images)\n",
        "    data = np.ndarray((count, CHANNELS, ROWS, COLS), dtype=np.uint8)\n",
        "    \n",
        "    for i, image_file in enumerate(images):\n",
        "        image = read_image(image_file)\n",
        "        data[i] = image.T\n",
        "        if i%250 == 0: print (f\"Processed {i} of {count}\")\n",
        "    return data\n",
        "\n",
        "train = prep_data(train_images)\n",
        "print(f\"Train shape {train.shape}\")"
      ]
    },
    {
      "cell_type": "code",
      "execution_count": null,
      "id": "4bd784c9",
      "metadata": {
        "id": "4bd784c9",
        "outputId": "41a0a58f-3625-4148-8d4a-52e245fd3c90"
      },
      "outputs": [
        {
          "data": {
            "text/plain": [
              "array([[[[250, 244, 241, ..., 248, 244, 247],\n",
              "         [247, 227, 220, ..., 230, 238, 246],\n",
              "         [246, 234, 220, ..., 221, 233, 250],\n",
              "         ...,\n",
              "         [248, 235, 214, ..., 212, 231, 245],\n",
              "         [246, 232, 231, ..., 225, 228, 245],\n",
              "         [247, 242, 242, ..., 243, 244, 247]],\n",
              "\n",
              "        [[246, 245, 245, ..., 250, 246, 249],\n",
              "         [249, 233, 228, ..., 236, 240, 248],\n",
              "         [248, 240, 229, ..., 229, 237, 249],\n",
              "         ...,\n",
              "         [251, 242, 223, ..., 218, 237, 247],\n",
              "         [248, 238, 239, ..., 228, 230, 247],\n",
              "         [250, 247, 246, ..., 245, 246, 249]],\n",
              "\n",
              "        [[246, 245, 244, ..., 250, 246, 249],\n",
              "         [249, 232, 227, ..., 235, 240, 248],\n",
              "         [248, 239, 227, ..., 229, 238, 251],\n",
              "         ...,\n",
              "         [249, 239, 220, ..., 217, 236, 247],\n",
              "         [248, 237, 238, ..., 228, 230, 247],\n",
              "         [250, 246, 247, ..., 245, 246, 249]]],\n",
              "\n",
              "\n",
              "       [[[ 17,  22,  20, ..., 178, 170, 155],\n",
              "         [ 21,  19,  19, ..., 177, 148, 164],\n",
              "         [ 22,  27,  18, ..., 163, 167, 182],\n",
              "         ...,\n",
              "         [154, 176, 157, ..., 189, 158, 162],\n",
              "         [151, 123, 169, ..., 181, 177, 131],\n",
              "         [154, 170, 153, ..., 170, 148, 168]],\n",
              "\n",
              "        [[ 11,  16,  14, ..., 172, 165, 148],\n",
              "         [ 17,  15,  15, ..., 170, 138, 157],\n",
              "         [ 20,  25,  16, ..., 155, 159, 176],\n",
              "         ...,\n",
              "         [146, 168, 149, ..., 183, 152, 157],\n",
              "         [146, 117, 163, ..., 175, 171, 124],\n",
              "         [149, 167, 148, ..., 164, 142, 160]],\n",
              "\n",
              "        [[ 22,  27,  25, ..., 174, 162, 151],\n",
              "         [ 22,  21,  20, ..., 175, 149, 160],\n",
              "         [ 26,  31,  22, ..., 162, 166, 177],\n",
              "         ...,\n",
              "         [147, 169, 150, ..., 184, 153, 156],\n",
              "         [147, 118, 164, ..., 176, 172, 129],\n",
              "         [150, 164, 149, ..., 165, 143, 167]]],\n",
              "\n",
              "\n",
              "       [[[ 34,  36,  39, ...,  61,  46,  54],\n",
              "         [ 40,  40,  38, ...,  53,  52,  55],\n",
              "         [ 38,  28,  41, ...,  56,  59,  62],\n",
              "         ...,\n",
              "         [ 23,  22,  17, ...,  51,  60,  50],\n",
              "         [ 25,  25,  25, ...,  64,  57,  56],\n",
              "         [ 28,  28,  26, ...,  63,  56,  57]],\n",
              "\n",
              "        [[  5,   5,   8, ...,  25,  10,  18],\n",
              "         [  9,   8,   5, ...,  17,  16,  17],\n",
              "         [  4,   6,   7, ...,  22,  22,  29],\n",
              "         ...,\n",
              "         [  2,   0,   0, ...,  24,  23,  17],\n",
              "         [  1,   1,   1, ...,  28,  24,  17],\n",
              "         [  0,   0,   0, ...,  16,  13,  18]],\n",
              "\n",
              "        [[152, 156, 161, ..., 196, 181, 188],\n",
              "         [160, 163, 162, ..., 188, 187, 193],\n",
              "         [162, 148, 152, ..., 187, 196, 201],\n",
              "         ...,\n",
              "         [129, 129, 127, ..., 180, 215, 201],\n",
              "         [133, 133, 133, ..., 205, 193, 196],\n",
              "         [128, 128, 133, ..., 207, 194, 198]]],\n",
              "\n",
              "\n",
              "       ...,\n",
              "\n",
              "\n",
              "       [[[  8,   9,  10, ...,  11,  14,   9],\n",
              "         [  6,   6,   6, ...,   6,   7,   8],\n",
              "         [  6,   6,   6, ...,  51,  55,  75],\n",
              "         ...,\n",
              "         [  5,   5,   5, ...,  49,  37,  38],\n",
              "         [  5,   5,   5, ...,  32,  32,  46],\n",
              "         [  3,   3,   4, ...,  34,  20,  44]],\n",
              "\n",
              "        [[ 12,  13,  14, ...,  13,  14,   9],\n",
              "         [  4,   4,   4, ...,   8,   7,   8],\n",
              "         [  4,   4,   4, ...,  56,  63,  83],\n",
              "         ...,\n",
              "         [  3,   3,   3, ...,  59,  52,  55],\n",
              "         [  3,   3,   3, ...,  50,  49,  62],\n",
              "         [  1,   1,   1, ...,  56,  37,  60]],\n",
              "\n",
              "        [[ 11,  12,  13, ...,  13,  14,   9],\n",
              "         [  4,   4,   4, ...,   8,   7,   8],\n",
              "         [  4,   4,   4, ...,  55,  61,  78],\n",
              "         ...,\n",
              "         [  3,   3,   3, ...,  68,  69,  68],\n",
              "         [  3,   3,   3, ...,  57,  63,  75],\n",
              "         [  1,   1,   1, ...,  63,  47,  73]]],\n",
              "\n",
              "\n",
              "       [[[193, 170, 191, ...,  43,  37,  24],\n",
              "         [ 89,  95, 103, ...,  81,  84,  67],\n",
              "         [ 65,  64,  49, ...,  84, 110,  96],\n",
              "         ...,\n",
              "         [ 63,  70,  62, ...,  32,  41,  64],\n",
              "         [ 53,  64,  69, ...,  42,  32,  54],\n",
              "         [ 61,  66,  70, ...,  23,  19,  21]],\n",
              "\n",
              "        [[191, 168, 189, ...,  30,  27,  16],\n",
              "         [ 87,  94, 101, ...,  57,  60,  49],\n",
              "         [ 61,  60,  45, ...,  51,  71,  67],\n",
              "         ...,\n",
              "         [ 51,  55,  45, ...,  27,  31,  52],\n",
              "         [ 40,  48,  51, ...,  37,  27,  44],\n",
              "         [ 47,  50,  51, ...,  19,  15,  12]],\n",
              "\n",
              "        [[180, 157, 178, ...,  24,  20,  13],\n",
              "         [ 77,  83,  91, ...,  53,  56,  46],\n",
              "         [ 56,  55,  40, ...,  48,  69,  62],\n",
              "         ...,\n",
              "         [ 40,  45,  36, ...,  26,  31,  49],\n",
              "         [ 32,  41,  44, ...,  36,  26,  44],\n",
              "         [ 41,  44,  46, ...,  18,  13,  12]]],\n",
              "\n",
              "\n",
              "       [[[245, 252, 254, ..., 248, 248, 248],\n",
              "         [245, 243, 245, ..., 248, 247, 247],\n",
              "         [236, 237, 238, ..., 249, 249, 249],\n",
              "         ...,\n",
              "         [202, 204, 206, ..., 209, 208, 207],\n",
              "         [255, 255, 255, ..., 255, 255, 255],\n",
              "         [251, 249, 247, ..., 253, 252, 248]],\n",
              "\n",
              "        [[248, 253, 252, ..., 251, 251, 251],\n",
              "         [248, 244, 243, ..., 251, 250, 250],\n",
              "         [239, 238, 236, ..., 252, 252, 252],\n",
              "         ...,\n",
              "         [187, 189, 191, ..., 195, 194, 192],\n",
              "         [254, 255, 255, ..., 239, 237, 235],\n",
              "         [253, 251, 250, ..., 236, 232, 226]],\n",
              "\n",
              "        [[253, 255, 255, ..., 255, 255, 255],\n",
              "         [253, 249, 249, ..., 255, 255, 255],\n",
              "         [244, 244, 242, ..., 255, 255, 255],\n",
              "         ...,\n",
              "         [177, 179, 181, ..., 192, 192, 192],\n",
              "         [246, 247, 248, ..., 222, 220, 218],\n",
              "         [253, 252, 250, ..., 219, 215, 210]]]], dtype=uint8)"
            ]
          },
          "execution_count": 41,
          "metadata": {},
          "output_type": "execute_result"
        }
      ],
      "source": [
        "train"
      ]
    },
    {
      "cell_type": "code",
      "execution_count": null,
      "id": "6b09dfa4",
      "metadata": {
        "id": "6b09dfa4"
      },
      "outputs": [],
      "source": [
        ""
      ]
    }
  ],
  "metadata": {
    "kernelspec": {
      "display_name": "Python 3 (ipykernel)",
      "language": "python",
      "name": "python3"
    },
    "language_info": {
      "codemirror_mode": {
        "name": "ipython",
        "version": 3
      },
      "file_extension": ".py",
      "mimetype": "text/x-python",
      "name": "python",
      "nbconvert_exporter": "python",
      "pygments_lexer": "ipython3",
      "version": "3.7.8"
    },
    "colab": {
      "name": "reading_in_image_files.ipynb",
      "provenance": []
    }
  },
  "nbformat": 4,
  "nbformat_minor": 5
}