{
 "cells": [
  {
   "cell_type": "code",
   "execution_count": 45,
   "id": "a07c6e47",
   "metadata": {},
   "outputs": [],
   "source": [
    "import os, cv2, random, shutil\n",
    "import numpy as np\n",
    "import pandas as pd\n",
    "from sklearn.model_selection import train_test_split\n"
   ]
  },
  {
   "cell_type": "code",
   "execution_count": 35,
   "id": "560f91b3",
   "metadata": {},
   "outputs": [
    {
     "name": "stdout",
     "output_type": "stream",
     "text": [
      "There are 25000 images\n",
      "There are 12500 dog images\n",
      "There are 12500 cat images\n",
      "There are 12500 images\n"
     ]
    }
   ],
   "source": [
    "# Inspired by Jeff Delaney notebook: https://www.kaggle.com/jeffd23/catdognet-keras-convnet-starter\n",
    "\n",
    "def get_images (directory, type=None):\n",
    "    if type is None:\n",
    "        images = [directory + i for i in os.listdir(directory)]\n",
    "        print(f\"There are {len(images)} images\")\n",
    "    else:\n",
    "        images = [directory + i for i in os.listdir(directory) if type in i]\n",
    "        print(f\"There are {len(images)} {type} images\")\n",
    "    return images\n",
    "\n",
    "train_dir = 'data/train/'\n",
    "\n",
    "train_images = get_images(train_dir)\n",
    "train_dogs = get_images(train_dir, 'dog')\n",
    "train_cats = get_images(train_dir, 'cat')\n",
    "test_images = get_images('data/test/')"
   ]
  },
  {
   "cell_type": "code",
   "execution_count": 28,
   "id": "be54ddc8",
   "metadata": {},
   "outputs": [
    {
     "data": {
      "text/plain": [
       "4166.666666666667"
      ]
     },
     "execution_count": 28,
     "metadata": {},
     "output_type": "execute_result"
    }
   ],
   "source": [
    "len(train_images)/6"
   ]
  },
  {
   "cell_type": "code",
   "execution_count": 29,
   "id": "eb72c492",
   "metadata": {},
   "outputs": [
    {
     "data": {
      "text/plain": [
       "2083.3333333333335"
      ]
     },
     "execution_count": 29,
     "metadata": {},
     "output_type": "execute_result"
    }
   ],
   "source": [
    "len(train_dogs)/6"
   ]
  },
  {
   "cell_type": "code",
   "execution_count": 36,
   "id": "655b9aca",
   "metadata": {},
   "outputs": [],
   "source": [
    "train_images = random.sample(train_dogs, 2000) + random.sample(train_cats, 2000)\n",
    "random.shuffle(train_images)"
   ]
  },
  {
   "cell_type": "code",
   "execution_count": 50,
   "id": "411d7a98",
   "metadata": {},
   "outputs": [
    {
     "data": {
      "text/plain": [
       "'cat.9799.jpg'"
      ]
     },
     "execution_count": 50,
     "metadata": {},
     "output_type": "execute_result"
    }
   ],
   "source": [
    "hmm = train_images[1]\n",
    "hmm[11:]\n"
   ]
  },
  {
   "cell_type": "code",
   "execution_count": 51,
   "id": "eac36975",
   "metadata": {},
   "outputs": [],
   "source": [
    "for file in train_images:\n",
    "    shutil.copy(file, f\"data/train_subset/{file[11:]}\")"
   ]
  },
  {
   "cell_type": "code",
   "execution_count": 37,
   "id": "b878ed46",
   "metadata": {},
   "outputs": [],
   "source": [
    "ROWS = 64\n",
    "COLS = 64\n",
    "CHANNELS = 3"
   ]
  },
  {
   "cell_type": "code",
   "execution_count": 42,
   "id": "fdd885db",
   "metadata": {},
   "outputs": [
    {
     "data": {
      "text/plain": [
       "array([[[ 17,  11,  22],\n",
       "        [ 21,  17,  22],\n",
       "        [ 22,  20,  26],\n",
       "        ...,\n",
       "        [154, 146, 147],\n",
       "        [151, 146, 147],\n",
       "        [154, 149, 150]],\n",
       "\n",
       "       [[ 22,  16,  27],\n",
       "        [ 19,  15,  21],\n",
       "        [ 27,  25,  31],\n",
       "        ...,\n",
       "        [176, 168, 169],\n",
       "        [123, 117, 118],\n",
       "        [170, 167, 164]],\n",
       "\n",
       "       [[ 20,  14,  25],\n",
       "        [ 19,  15,  20],\n",
       "        [ 18,  16,  22],\n",
       "        ...,\n",
       "        [157, 149, 150],\n",
       "        [169, 163, 164],\n",
       "        [153, 148, 149]],\n",
       "\n",
       "       ...,\n",
       "\n",
       "       [[178, 172, 174],\n",
       "        [177, 170, 175],\n",
       "        [163, 155, 162],\n",
       "        ...,\n",
       "        [189, 183, 184],\n",
       "        [181, 175, 176],\n",
       "        [170, 164, 165]],\n",
       "\n",
       "       [[170, 165, 162],\n",
       "        [148, 138, 149],\n",
       "        [167, 159, 166],\n",
       "        ...,\n",
       "        [158, 152, 153],\n",
       "        [177, 171, 172],\n",
       "        [148, 142, 143]],\n",
       "\n",
       "       [[155, 148, 151],\n",
       "        [164, 157, 160],\n",
       "        [182, 176, 177],\n",
       "        ...,\n",
       "        [162, 157, 156],\n",
       "        [131, 124, 129],\n",
       "        [168, 160, 167]]], dtype=uint8)"
      ]
     },
     "execution_count": 42,
     "metadata": {},
     "output_type": "execute_result"
    }
   ],
   "source": [
    "def read_image (file_path):\n",
    "    img = cv2.imread(file_path, cv2.IMREAD_COLOR)\n",
    "    return cv2.resize(img, (ROWS, COLS), interpolation=cv2.INTER_CUBIC)\n"
   ]
  },
  {
   "cell_type": "code",
   "execution_count": 40,
   "id": "1a8ae4df",
   "metadata": {},
   "outputs": [
    {
     "name": "stdout",
     "output_type": "stream",
     "text": [
      "Procesed 0 of 4000\n",
      "Procesed 250 of 4000\n",
      "Procesed 500 of 4000\n",
      "Procesed 750 of 4000\n",
      "Procesed 1000 of 4000\n",
      "Procesed 1250 of 4000\n",
      "Procesed 1500 of 4000\n",
      "Procesed 1750 of 4000\n",
      "Procesed 2000 of 4000\n",
      "Procesed 2250 of 4000\n",
      "Procesed 2500 of 4000\n",
      "Procesed 2750 of 4000\n",
      "Procesed 3000 of 4000\n",
      "Procesed 3250 of 4000\n",
      "Procesed 3500 of 4000\n",
      "Procesed 3750 of 4000\n",
      "Train shape (4000, 3, 64, 64)\n"
     ]
    }
   ],
   "source": [
    "def read_image (file_path):\n",
    "    img = cv2.imread(file_path, cv2.IMREAD_COLOR)\n",
    "    return cv2.resize(img, (ROWS, COLS), interpolation=cv2.INTER_CUBIC)\n",
    "\n",
    "def prep_data(images):\n",
    "    count = len(images)\n",
    "    data = np.ndarray((count, CHANNELS, ROWS, COLS), dtype=np.uint8)\n",
    "    \n",
    "    for i, image_file in enumerate(images):\n",
    "        image = read_image(image_file)\n",
    "        data[i] = image.T\n",
    "        if i%250 == 0: print (f\"Processed {i} of {count}\")\n",
    "    return data\n",
    "\n",
    "train = prep_data(train_images)\n",
    "print(f\"Train shape {train.shape}\")"
   ]
  },
  {
   "cell_type": "code",
   "execution_count": 41,
   "id": "4bd784c9",
   "metadata": {},
   "outputs": [
    {
     "data": {
      "text/plain": [
       "array([[[[250, 244, 241, ..., 248, 244, 247],\n",
       "         [247, 227, 220, ..., 230, 238, 246],\n",
       "         [246, 234, 220, ..., 221, 233, 250],\n",
       "         ...,\n",
       "         [248, 235, 214, ..., 212, 231, 245],\n",
       "         [246, 232, 231, ..., 225, 228, 245],\n",
       "         [247, 242, 242, ..., 243, 244, 247]],\n",
       "\n",
       "        [[246, 245, 245, ..., 250, 246, 249],\n",
       "         [249, 233, 228, ..., 236, 240, 248],\n",
       "         [248, 240, 229, ..., 229, 237, 249],\n",
       "         ...,\n",
       "         [251, 242, 223, ..., 218, 237, 247],\n",
       "         [248, 238, 239, ..., 228, 230, 247],\n",
       "         [250, 247, 246, ..., 245, 246, 249]],\n",
       "\n",
       "        [[246, 245, 244, ..., 250, 246, 249],\n",
       "         [249, 232, 227, ..., 235, 240, 248],\n",
       "         [248, 239, 227, ..., 229, 238, 251],\n",
       "         ...,\n",
       "         [249, 239, 220, ..., 217, 236, 247],\n",
       "         [248, 237, 238, ..., 228, 230, 247],\n",
       "         [250, 246, 247, ..., 245, 246, 249]]],\n",
       "\n",
       "\n",
       "       [[[ 17,  22,  20, ..., 178, 170, 155],\n",
       "         [ 21,  19,  19, ..., 177, 148, 164],\n",
       "         [ 22,  27,  18, ..., 163, 167, 182],\n",
       "         ...,\n",
       "         [154, 176, 157, ..., 189, 158, 162],\n",
       "         [151, 123, 169, ..., 181, 177, 131],\n",
       "         [154, 170, 153, ..., 170, 148, 168]],\n",
       "\n",
       "        [[ 11,  16,  14, ..., 172, 165, 148],\n",
       "         [ 17,  15,  15, ..., 170, 138, 157],\n",
       "         [ 20,  25,  16, ..., 155, 159, 176],\n",
       "         ...,\n",
       "         [146, 168, 149, ..., 183, 152, 157],\n",
       "         [146, 117, 163, ..., 175, 171, 124],\n",
       "         [149, 167, 148, ..., 164, 142, 160]],\n",
       "\n",
       "        [[ 22,  27,  25, ..., 174, 162, 151],\n",
       "         [ 22,  21,  20, ..., 175, 149, 160],\n",
       "         [ 26,  31,  22, ..., 162, 166, 177],\n",
       "         ...,\n",
       "         [147, 169, 150, ..., 184, 153, 156],\n",
       "         [147, 118, 164, ..., 176, 172, 129],\n",
       "         [150, 164, 149, ..., 165, 143, 167]]],\n",
       "\n",
       "\n",
       "       [[[ 34,  36,  39, ...,  61,  46,  54],\n",
       "         [ 40,  40,  38, ...,  53,  52,  55],\n",
       "         [ 38,  28,  41, ...,  56,  59,  62],\n",
       "         ...,\n",
       "         [ 23,  22,  17, ...,  51,  60,  50],\n",
       "         [ 25,  25,  25, ...,  64,  57,  56],\n",
       "         [ 28,  28,  26, ...,  63,  56,  57]],\n",
       "\n",
       "        [[  5,   5,   8, ...,  25,  10,  18],\n",
       "         [  9,   8,   5, ...,  17,  16,  17],\n",
       "         [  4,   6,   7, ...,  22,  22,  29],\n",
       "         ...,\n",
       "         [  2,   0,   0, ...,  24,  23,  17],\n",
       "         [  1,   1,   1, ...,  28,  24,  17],\n",
       "         [  0,   0,   0, ...,  16,  13,  18]],\n",
       "\n",
       "        [[152, 156, 161, ..., 196, 181, 188],\n",
       "         [160, 163, 162, ..., 188, 187, 193],\n",
       "         [162, 148, 152, ..., 187, 196, 201],\n",
       "         ...,\n",
       "         [129, 129, 127, ..., 180, 215, 201],\n",
       "         [133, 133, 133, ..., 205, 193, 196],\n",
       "         [128, 128, 133, ..., 207, 194, 198]]],\n",
       "\n",
       "\n",
       "       ...,\n",
       "\n",
       "\n",
       "       [[[  8,   9,  10, ...,  11,  14,   9],\n",
       "         [  6,   6,   6, ...,   6,   7,   8],\n",
       "         [  6,   6,   6, ...,  51,  55,  75],\n",
       "         ...,\n",
       "         [  5,   5,   5, ...,  49,  37,  38],\n",
       "         [  5,   5,   5, ...,  32,  32,  46],\n",
       "         [  3,   3,   4, ...,  34,  20,  44]],\n",
       "\n",
       "        [[ 12,  13,  14, ...,  13,  14,   9],\n",
       "         [  4,   4,   4, ...,   8,   7,   8],\n",
       "         [  4,   4,   4, ...,  56,  63,  83],\n",
       "         ...,\n",
       "         [  3,   3,   3, ...,  59,  52,  55],\n",
       "         [  3,   3,   3, ...,  50,  49,  62],\n",
       "         [  1,   1,   1, ...,  56,  37,  60]],\n",
       "\n",
       "        [[ 11,  12,  13, ...,  13,  14,   9],\n",
       "         [  4,   4,   4, ...,   8,   7,   8],\n",
       "         [  4,   4,   4, ...,  55,  61,  78],\n",
       "         ...,\n",
       "         [  3,   3,   3, ...,  68,  69,  68],\n",
       "         [  3,   3,   3, ...,  57,  63,  75],\n",
       "         [  1,   1,   1, ...,  63,  47,  73]]],\n",
       "\n",
       "\n",
       "       [[[193, 170, 191, ...,  43,  37,  24],\n",
       "         [ 89,  95, 103, ...,  81,  84,  67],\n",
       "         [ 65,  64,  49, ...,  84, 110,  96],\n",
       "         ...,\n",
       "         [ 63,  70,  62, ...,  32,  41,  64],\n",
       "         [ 53,  64,  69, ...,  42,  32,  54],\n",
       "         [ 61,  66,  70, ...,  23,  19,  21]],\n",
       "\n",
       "        [[191, 168, 189, ...,  30,  27,  16],\n",
       "         [ 87,  94, 101, ...,  57,  60,  49],\n",
       "         [ 61,  60,  45, ...,  51,  71,  67],\n",
       "         ...,\n",
       "         [ 51,  55,  45, ...,  27,  31,  52],\n",
       "         [ 40,  48,  51, ...,  37,  27,  44],\n",
       "         [ 47,  50,  51, ...,  19,  15,  12]],\n",
       "\n",
       "        [[180, 157, 178, ...,  24,  20,  13],\n",
       "         [ 77,  83,  91, ...,  53,  56,  46],\n",
       "         [ 56,  55,  40, ...,  48,  69,  62],\n",
       "         ...,\n",
       "         [ 40,  45,  36, ...,  26,  31,  49],\n",
       "         [ 32,  41,  44, ...,  36,  26,  44],\n",
       "         [ 41,  44,  46, ...,  18,  13,  12]]],\n",
       "\n",
       "\n",
       "       [[[245, 252, 254, ..., 248, 248, 248],\n",
       "         [245, 243, 245, ..., 248, 247, 247],\n",
       "         [236, 237, 238, ..., 249, 249, 249],\n",
       "         ...,\n",
       "         [202, 204, 206, ..., 209, 208, 207],\n",
       "         [255, 255, 255, ..., 255, 255, 255],\n",
       "         [251, 249, 247, ..., 253, 252, 248]],\n",
       "\n",
       "        [[248, 253, 252, ..., 251, 251, 251],\n",
       "         [248, 244, 243, ..., 251, 250, 250],\n",
       "         [239, 238, 236, ..., 252, 252, 252],\n",
       "         ...,\n",
       "         [187, 189, 191, ..., 195, 194, 192],\n",
       "         [254, 255, 255, ..., 239, 237, 235],\n",
       "         [253, 251, 250, ..., 236, 232, 226]],\n",
       "\n",
       "        [[253, 255, 255, ..., 255, 255, 255],\n",
       "         [253, 249, 249, ..., 255, 255, 255],\n",
       "         [244, 244, 242, ..., 255, 255, 255],\n",
       "         ...,\n",
       "         [177, 179, 181, ..., 192, 192, 192],\n",
       "         [246, 247, 248, ..., 222, 220, 218],\n",
       "         [253, 252, 250, ..., 219, 215, 210]]]], dtype=uint8)"
      ]
     },
     "execution_count": 41,
     "metadata": {},
     "output_type": "execute_result"
    }
   ],
   "source": [
    "train"
   ]
  },
  {
   "cell_type": "code",
   "execution_count": null,
   "id": "6b09dfa4",
   "metadata": {},
   "outputs": [],
   "source": []
  }
 ],
 "metadata": {
  "kernelspec": {
   "display_name": "Python 3 (ipykernel)",
   "language": "python",
   "name": "python3"
  },
  "language_info": {
   "codemirror_mode": {
    "name": "ipython",
    "version": 3
   },
   "file_extension": ".py",
   "mimetype": "text/x-python",
   "name": "python",
   "nbconvert_exporter": "python",
   "pygments_lexer": "ipython3",
   "version": "3.7.8"
  }
 },
 "nbformat": 4,
 "nbformat_minor": 5
}
